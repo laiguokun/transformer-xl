{
 "cells": [
  {
   "cell_type": "code",
   "execution_count": 1,
   "metadata": {},
   "outputs": [],
   "source": [
    "import numpy as np\n",
    "file_list = []\n",
    "for i in range(1, 11):\n",
    "    file_list.append('../tmp/hidden_{}.npy'.format(i))\n",
    "xb = []\n",
    "for file in file_list:\n",
    "    x = np.load(file)\n",
    "    xb.append(x)\n",
    "xb = np.concatenate(xb, axis=0)\n",
    "xb = xb.astype('float32')"
   ]
  },
  {
   "cell_type": "code",
   "execution_count": 2,
   "metadata": {},
   "outputs": [
    {
     "name": "stderr",
     "output_type": "stream",
     "text": [
      "Loading faiss with AVX2 support.\n"
     ]
    },
    {
     "name": "stdout",
     "output_type": "stream",
     "text": [
      "124784384 410\n",
      "111706\n"
     ]
    }
   ],
   "source": [
    "import faiss\n",
    "import time\n",
    "import math\n",
    "ngpu = 8\n",
    "gpu_resources = []\n",
    "tempmem = -1\n",
    "\n",
    "for i in range(ngpu):\n",
    "    res = faiss.StandardGpuResources()\n",
    "    if tempmem >= 0:\n",
    "        res.setTempMemory(tempmem)\n",
    "    gpu_resources.append(res)\n",
    "\n",
    "def make_vres_vdev(i0=0, i1=-1):\n",
    "    \" return vectors of device ids and resources useful for gpu_multiple\"\n",
    "    vres = faiss.GpuResourcesVector()\n",
    "    vdev = faiss.IntVector()\n",
    "    if i1 == -1:\n",
    "        i1 = ngpu\n",
    "    for i in range(i0, i1):\n",
    "        vdev.push_back(i)\n",
    "        vres.push_back(gpu_resources[i])\n",
    "    return vres, vdev\n",
    "\n",
    "nq = 1024\n",
    "nb, d = xb.shape\n",
    "print(nb, d)\n",
    "co = faiss.GpuMultipleClonerOptions()\n",
    "co.useFloat16 = True\n",
    "co.useFloat16CoarseQuantizer = False\n",
    "co.usePrecomputed = False\n",
    "co.indicesOptions = 0\n",
    "co.verbose = True\n",
    "co.shard = True\n",
    "\n",
    "res = faiss.StandardGpuResources()\n",
    "start_time = time.time()\n",
    "centroid_num = int(math.sqrt(nb) * 10)\n",
    "print(centroid_num)\n",
    "index = faiss.index_factory(d, \"OPQ64_256,IVF{},PQ64\".format(centroid_num))\n",
    "vres, vdev = make_vres_vdev()\n",
    "index = faiss.index_cpu_to_gpu_multiple(vres, vdev, index, co)\n",
    "index.train(xb)\n",
    "index.add(xb)\n",
    "\n",
    "\n"
   ]
  },
  {
   "cell_type": "code",
   "execution_count": 3,
   "metadata": {},
   "outputs": [
    {
     "name": "stdout",
     "output_type": "stream",
     "text": [
      "build index time:2209.1777305603027\n",
      "query time:0.48778700828552246\n"
     ]
    }
   ],
   "source": [
    "print('build index time:{}'.format(time.time() - start_time))\n",
    "start_time = time.time()\n",
    "k = 1024                          \n",
    "D, I = index.search(xb[:nq], k)\n",
    "print('query time:{}'.format(time.time() - start_time))"
   ]
  },
  {
   "cell_type": "code",
   "execution_count": 4,
   "metadata": {},
   "outputs": [],
   "source": [
    "cpu_index = faiss.index_gpu_to_cpu(index)"
   ]
  },
  {
   "cell_type": "code",
   "execution_count": 5,
   "metadata": {},
   "outputs": [],
   "source": [
    "faiss.write_index(cpu_index, 'wt103.index')"
   ]
  },
  {
   "cell_type": "code",
   "execution_count": 13,
   "metadata": {},
   "outputs": [
    {
     "name": "stdout",
     "output_type": "stream",
     "text": [
      "query time:0.04770302772521973\n"
     ]
    }
   ],
   "source": [
    "test_index = faiss.read_index('test.index')\n",
    "start_time = time.time()\n",
    "k = 1024                          \n",
    "D, I = test_index.search(xb[:nq], k)\n",
    "print('query time:{}'.format(time.time() - start_time))"
   ]
  },
  {
   "cell_type": "code",
   "execution_count": null,
   "metadata": {},
   "outputs": [],
   "source": []
  }
 ],
 "metadata": {
  "kernelspec": {
   "display_name": "Python 3",
   "language": "python",
   "name": "python3"
  },
  "language_info": {
   "codemirror_mode": {
    "name": "ipython",
    "version": 3
   },
   "file_extension": ".py",
   "mimetype": "text/x-python",
   "name": "python",
   "nbconvert_exporter": "python",
   "pygments_lexer": "ipython3",
   "version": "3.7.4"
  }
 },
 "nbformat": 4,
 "nbformat_minor": 2
}
